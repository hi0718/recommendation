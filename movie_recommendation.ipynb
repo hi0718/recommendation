{
  "nbformat": 4,
  "nbformat_minor": 0,
  "metadata": {
    "kernelspec": {
      "display_name": "ml",
      "language": "python",
      "name": "ml"
    },
    "language_info": {
      "codemirror_mode": {
        "name": "ipython",
        "version": 3
      },
      "file_extension": ".py",
      "mimetype": "text/x-python",
      "name": "python",
      "nbconvert_exporter": "python",
      "pygments_lexer": "ipython3",
      "version": "3.6.8"
    },
    "colab": {
      "name": "movie_recommendation.ipynb",
      "provenance": [],
      "private_outputs": true,
      "collapsed_sections": []
    },
    "accelerator": "GPU"
  },
  "cells": [
    {
      "cell_type": "code",
      "metadata": {
        "id": "Qegr2uKwTYD-",
        "colab_type": "code",
        "colab": {}
      },
      "source": [
        "import pandas as pd\n",
        "import numpy as np\n",
        "import seaborn as sb\n",
        "import matplotlib.pyplot as plt\n",
        "%matplotlib inline"
      ],
      "execution_count": 0,
      "outputs": []
    },
    {
      "cell_type": "code",
      "metadata": {
        "id": "tBBoyttXTYEF",
        "colab_type": "code",
        "colab": {}
      },
      "source": [
        "U = [[1,4,2,2],[5,2,4,4],[np.nan,np.nan,3,np.nan],[2,5,np.nan,5],[4,1,np.nan,1],[np.nan,2,5,np.nan]]\n",
        "U = pd.DataFrame(U)\n",
        "U.columns = ['Ken','Lee','Meg','Nan']\n",
        "U.index = ['A','B','C','D','E','F']\n",
        "U"
      ],
      "execution_count": 0,
      "outputs": []
    },
    {
      "cell_type": "code",
      "metadata": {
        "id": "8QxfHNlBTYEK",
        "colab_type": "code",
        "colab": {}
      },
      "source": [
        "pear = U.corr()"
      ],
      "execution_count": 0,
      "outputs": []
    },
    {
      "cell_type": "code",
      "metadata": {
        "id": "kq3wepNvTYEN",
        "colab_type": "code",
        "colab": {}
      },
      "source": [
        "pear"
      ],
      "execution_count": 0,
      "outputs": []
    },
    {
      "cell_type": "code",
      "metadata": {
        "id": "guKsTAgYTYEQ",
        "colab_type": "code",
        "colab": {}
      },
      "source": [
        "mean = U.mean()"
      ],
      "execution_count": 0,
      "outputs": []
    },
    {
      "cell_type": "code",
      "metadata": {
        "id": "VgP9m1LfTYET",
        "colab_type": "code",
        "colab": {}
      },
      "source": [
        "mean"
      ],
      "execution_count": 0,
      "outputs": []
    },
    {
      "cell_type": "code",
      "metadata": {
        "id": "RP4DlHPfTYEW",
        "colab_type": "code",
        "colab": {}
      },
      "source": [
        "ken_mean = mean[0]\n",
        "ken_mean"
      ],
      "execution_count": 0,
      "outputs": []
    },
    {
      "cell_type": "code",
      "metadata": {
        "id": "TVJu88ILTYEY",
        "colab_type": "code",
        "colab": {}
      },
      "source": [
        "U.iloc[5,:]"
      ],
      "execution_count": 0,
      "outputs": []
    },
    {
      "cell_type": "code",
      "metadata": {
        "id": "V1JOsh4xTYEa",
        "colab_type": "code",
        "colab": {}
      },
      "source": [
        "round(U.mean().mean())"
      ],
      "execution_count": 0,
      "outputs": []
    },
    {
      "cell_type": "code",
      "metadata": {
        "id": "AC_hQODGTYEb",
        "colab_type": "code",
        "colab": {}
      },
      "source": [
        "pear.iloc[0,:]"
      ],
      "execution_count": 0,
      "outputs": []
    },
    {
      "cell_type": "code",
      "metadata": {
        "id": "XCERj2PFTYEf",
        "colab_type": "code",
        "colab": {}
      },
      "source": [
        "(U.iloc[5,:] - round(U.mean().mean()))*pear.iloc[0,:]"
      ],
      "execution_count": 0,
      "outputs": []
    },
    {
      "cell_type": "code",
      "metadata": {
        "id": "a5dxgwCeTYEh",
        "colab_type": "code",
        "colab": {}
      },
      "source": [
        "bunsi = ((U.iloc[5,:] - round(U.mean().mean()))*pear.iloc[0,:]).sum()\n",
        "bunsi"
      ],
      "execution_count": 0,
      "outputs": []
    },
    {
      "cell_type": "code",
      "metadata": {
        "id": "-9fQrbBuTYEj",
        "colab_type": "code",
        "colab": {}
      },
      "source": [
        "bumbo = pear.iloc[0,].abs().sum()-1\n",
        "bumbo"
      ],
      "execution_count": 0,
      "outputs": []
    },
    {
      "cell_type": "code",
      "metadata": {
        "id": "RkJX2yOFTYEk",
        "colab_type": "code",
        "colab": {}
      },
      "source": [
        "ken_mean +  bunsi/bumbo"
      ],
      "execution_count": 0,
      "outputs": []
    },
    {
      "cell_type": "code",
      "metadata": {
        "id": "oBV6eLvJTYEm",
        "colab_type": "code",
        "colab": {}
      },
      "source": [
        "ls"
      ],
      "execution_count": 0,
      "outputs": []
    },
    {
      "cell_type": "code",
      "metadata": {
        "id": "Au7Qp3-sTYEo",
        "colab_type": "code",
        "colab": {}
      },
      "source": [
        "rating = pd.read_csv('./ratings.csv')\n",
        "movie = pd.read_csv('./movies.csv')"
      ],
      "execution_count": 0,
      "outputs": []
    },
    {
      "cell_type": "code",
      "metadata": {
        "id": "3EsTkYDITYEq",
        "colab_type": "code",
        "colab": {}
      },
      "source": [
        "rating.info()"
      ],
      "execution_count": 0,
      "outputs": []
    },
    {
      "cell_type": "code",
      "metadata": {
        "id": "In-sF5AETYEr",
        "colab_type": "code",
        "colab": {}
      },
      "source": [
        "rating.head()"
      ],
      "execution_count": 0,
      "outputs": []
    },
    {
      "cell_type": "code",
      "metadata": {
        "id": "3eBnGFRGTYEt",
        "colab_type": "code",
        "colab": {}
      },
      "source": [
        "rating.describe()"
      ],
      "execution_count": 0,
      "outputs": []
    },
    {
      "cell_type": "code",
      "metadata": {
        "id": "eqfeb9HSTYEv",
        "colab_type": "code",
        "colab": {}
      },
      "source": [
        "rating['movieId'].nunique()"
      ],
      "execution_count": 0,
      "outputs": []
    },
    {
      "cell_type": "code",
      "metadata": {
        "id": "h5yY5GLETYEy",
        "colab_type": "code",
        "colab": {}
      },
      "source": [
        "rating['userId'].nunique()"
      ],
      "execution_count": 0,
      "outputs": []
    },
    {
      "cell_type": "code",
      "metadata": {
        "id": "p2Vr5947TYE0",
        "colab_type": "code",
        "colab": {}
      },
      "source": [
        "movie.info()"
      ],
      "execution_count": 0,
      "outputs": []
    },
    {
      "cell_type": "code",
      "metadata": {
        "id": "p03pNvPpTYE3",
        "colab_type": "code",
        "colab": {}
      },
      "source": [
        "movie.head()"
      ],
      "execution_count": 0,
      "outputs": []
    },
    {
      "cell_type": "code",
      "metadata": {
        "id": "JjjcvzM1TYE5",
        "colab_type": "code",
        "colab": {}
      },
      "source": [
        "movie.describe()"
      ],
      "execution_count": 0,
      "outputs": []
    },
    {
      "cell_type": "code",
      "metadata": {
        "id": "S-5yW76aTYE6",
        "colab_type": "code",
        "colab": {}
      },
      "source": [
        "df = pd.merge(rating,movie,on='movieId',how='left')\n",
        "df.head()"
      ],
      "execution_count": 0,
      "outputs": []
    },
    {
      "cell_type": "code",
      "metadata": {
        "id": "ov3MEh9jTYE8",
        "colab_type": "code",
        "colab": {}
      },
      "source": [
        "data = df[['userId','title','rating']]\n",
        "data.head()"
      ],
      "execution_count": 0,
      "outputs": []
    },
    {
      "cell_type": "code",
      "metadata": {
        "id": "PAixBTObTYE_",
        "colab_type": "code",
        "colab": {}
      },
      "source": [
        "data.groupby('title')['userId'].count().sort_values(ascending=False).head()"
      ],
      "execution_count": 0,
      "outputs": []
    },
    {
      "cell_type": "code",
      "metadata": {
        "id": "7ZV1Bp5hTYFB",
        "colab_type": "code",
        "colab": {}
      },
      "source": [
        "data.groupby('title')['userId'].count().sort_values(ascending=False).tail()"
      ],
      "execution_count": 0,
      "outputs": []
    },
    {
      "cell_type": "code",
      "metadata": {
        "id": "nBMY7Z4vTYFD",
        "colab_type": "code",
        "colab": {}
      },
      "source": [
        "title_rating = data.groupby('title')['userId'].count().sort_values(ascending=False)"
      ],
      "execution_count": 0,
      "outputs": []
    },
    {
      "cell_type": "code",
      "metadata": {
        "id": "mDXVnWR-TYFG",
        "colab_type": "code",
        "colab": {}
      },
      "source": [
        "plt.figure(figsize=(15,10))\n",
        "title_rating.plot()\n",
        "plt.grid()"
      ],
      "execution_count": 0,
      "outputs": []
    },
    {
      "cell_type": "code",
      "metadata": {
        "id": "zufvqjEwTYFH",
        "colab_type": "code",
        "colab": {}
      },
      "source": [
        "data.groupby('userId')['userId'].count().sort_values(ascending=False).head()"
      ],
      "execution_count": 0,
      "outputs": []
    },
    {
      "cell_type": "code",
      "metadata": {
        "id": "pPDjKJXUUbx-",
        "colab_type": "code",
        "colab": {}
      },
      "source": [
        "data.groupby('userId')['userId'].count().sort_values(ascending=False).tail()"
      ],
      "execution_count": 0,
      "outputs": []
    },
    {
      "cell_type": "code",
      "metadata": {
        "id": "HBh6DgQWUhC6",
        "colab_type": "code",
        "colab": {}
      },
      "source": [
        "plt.figure(figsize=(15,10))\n",
        "sb.barplot(x='rating', y='userId',data=data)"
      ],
      "execution_count": 0,
      "outputs": []
    },
    {
      "cell_type": "code",
      "metadata": {
        "id": "KXjcScnYVCrV",
        "colab_type": "code",
        "colab": {}
      },
      "source": [
        "df = pd.pivot_table(data, index='userId',columns='title')\n",
        "df.head()"
      ],
      "execution_count": 0,
      "outputs": []
    },
    {
      "cell_type": "code",
      "metadata": {
        "id": "xRCbGW8zVTjM",
        "colab_type": "code",
        "colab": {}
      },
      "source": [
        "plt.figure(figsize=(18,18))\n",
        "sb.heatmap(df,cmap='Blues')"
      ],
      "execution_count": 0,
      "outputs": []
    },
    {
      "cell_type": "code",
      "metadata": {
        "id": "CIWkorNxVoDC",
        "colab_type": "code",
        "colab": {}
      },
      "source": [
        "test = pd.pivot_table(data,index='userId',columns='title',aggfunc='sum',margins=True)\n",
        "test.tail()"
      ],
      "execution_count": 0,
      "outputs": []
    },
    {
      "cell_type": "code",
      "metadata": {
        "id": "943m23n4WOW5",
        "colab_type": "code",
        "colab": {}
      },
      "source": [
        "test.columns[0]"
      ],
      "execution_count": 0,
      "outputs": []
    },
    {
      "cell_type": "code",
      "metadata": {
        "id": "fUtGEOBpWVmw",
        "colab_type": "code",
        "colab": {}
      },
      "source": [
        "test = test.sort_values(by='All',ascending=False,axis=1).sort_values(by=('rating','All'),ascending=False)"
      ],
      "execution_count": 0,
      "outputs": []
    },
    {
      "cell_type": "code",
      "metadata": {
        "id": "oqU28IkWWtEE",
        "colab_type": "code",
        "colab": {}
      },
      "source": [
        "plt.figure(figsize=(18,18))\n",
        "sb.heatmap(test)"
      ],
      "execution_count": 0,
      "outputs": []
    },
    {
      "cell_type": "code",
      "metadata": {
        "id": "g8tWTlmqXZcU",
        "colab_type": "code",
        "colab": {}
      },
      "source": [
        "toy = test.iloc[50:70,50:100].T\n",
        "toy.head()"
      ],
      "execution_count": 0,
      "outputs": []
    },
    {
      "cell_type": "code",
      "metadata": {
        "id": "gY4X_Wm8X4gw",
        "colab_type": "code",
        "colab": {}
      },
      "source": [
        "corrs = toy.corr()\n",
        "corrs.head()"
      ],
      "execution_count": 0,
      "outputs": []
    },
    {
      "cell_type": "code",
      "metadata": {
        "id": "JkoOW9MuYBDh",
        "colab_type": "code",
        "colab": {}
      },
      "source": [
        "corrs.loc[:,357].head()"
      ],
      "execution_count": 0,
      "outputs": []
    },
    {
      "cell_type": "code",
      "metadata": {
        "id": "l32YnRFlYJIO",
        "colab_type": "code",
        "colab": {}
      },
      "source": [
        "user_corr = corrs.loc[:,357].sort_values(ascending=False)\n",
        "user_corr.head()"
      ],
      "execution_count": 0,
      "outputs": []
    },
    {
      "cell_type": "code",
      "metadata": {
        "id": "71dmpGW1Yed0",
        "colab_type": "code",
        "colab": {}
      },
      "source": [
        "user_corr_top5 = user_corr[1:6]\n",
        "user_corr_top5"
      ],
      "execution_count": 0,
      "outputs": []
    },
    {
      "cell_type": "code",
      "metadata": {
        "id": "frlFmCm2Yst7",
        "colab_type": "code",
        "colab": {}
      },
      "source": [
        "user_corr_top5.index"
      ],
      "execution_count": 0,
      "outputs": []
    },
    {
      "cell_type": "code",
      "metadata": {
        "id": "Ggm1cAzCY1Nj",
        "colab_type": "code",
        "colab": {}
      },
      "source": [
        "rating_top5 = toy.loc[:,user_corr_top5.index]\n",
        "rating_top5.head()"
      ],
      "execution_count": 0,
      "outputs": []
    },
    {
      "cell_type": "code",
      "metadata": {
        "id": "ofThyHtTZJaE",
        "colab_type": "code",
        "colab": {}
      },
      "source": [
        "usermean = rating_top5.mean()"
      ],
      "execution_count": 0,
      "outputs": []
    },
    {
      "cell_type": "code",
      "metadata": {
        "id": "SRKagHz2ZPcC",
        "colab_type": "code",
        "colab": {}
      },
      "source": [
        "normratings = rating_top5 - usermean"
      ],
      "execution_count": 0,
      "outputs": []
    },
    {
      "cell_type": "code",
      "metadata": {
        "id": "MppC65phZbJg",
        "colab_type": "code",
        "colab": {}
      },
      "source": [
        "normratings.mean()"
      ],
      "execution_count": 0,
      "outputs": []
    },
    {
      "cell_type": "code",
      "metadata": {
        "id": "kFE4qOeSZ1Pn",
        "colab_type": "code",
        "colab": {}
      },
      "source": [
        "weighted_ratings = (normratings*user_corr_top5).sum(axis=1)"
      ],
      "execution_count": 0,
      "outputs": []
    },
    {
      "cell_type": "code",
      "metadata": {
        "id": "hjwhdULmaJh9",
        "colab_type": "code",
        "colab": {}
      },
      "source": [
        "normratings.notnull().head()"
      ],
      "execution_count": 0,
      "outputs": []
    },
    {
      "cell_type": "code",
      "metadata": {
        "id": "JrM48t2CaW49",
        "colab_type": "code",
        "colab": {}
      },
      "source": [
        "toy.loc[:,357].mean()"
      ],
      "execution_count": 0,
      "outputs": []
    },
    {
      "cell_type": "code",
      "metadata": {
        "id": "urn-ZJyZa3aL",
        "colab_type": "code",
        "colab": {}
      },
      "source": [
        "sumweight = (normratings.notnull()*user_corr_top5).sum(axis=1)"
      ],
      "execution_count": 0,
      "outputs": []
    },
    {
      "cell_type": "code",
      "metadata": {
        "id": "LRxG22v9auAU",
        "colab_type": "code",
        "colab": {}
      },
      "source": [
        "predict = toy.loc[:,357].mean() + weighted_ratings/sumweight"
      ],
      "execution_count": 0,
      "outputs": []
    },
    {
      "cell_type": "code",
      "metadata": {
        "id": "hrfJElhobdrh",
        "colab_type": "code",
        "colab": {}
      },
      "source": [
        "predict.sort_values(ascending=False)"
      ],
      "execution_count": 0,
      "outputs": []
    },
    {
      "cell_type": "code",
      "metadata": {
        "id": "V3q_F6DtcGhn",
        "colab_type": "code",
        "colab": {}
      },
      "source": [
        "toy = toy.T\n",
        "toy.head()"
      ],
      "execution_count": 0,
      "outputs": []
    },
    {
      "cell_type": "code",
      "metadata": {
        "id": "D4H-atn-cUO3",
        "colab_type": "code",
        "colab": {}
      },
      "source": [
        "itemmean = toy.mean()\n",
        "itemmean.head()"
      ],
      "execution_count": 0,
      "outputs": []
    },
    {
      "cell_type": "code",
      "metadata": {
        "id": "PxIZf5_Jccnm",
        "colab_type": "code",
        "colab": {}
      },
      "source": [
        "itemmean[0]"
      ],
      "execution_count": 0,
      "outputs": []
    },
    {
      "cell_type": "code",
      "metadata": {
        "id": "ENgwOTYxchQu",
        "colab_type": "code",
        "colab": {}
      },
      "source": [
        "normrating = (toy-itemmean)\n",
        "normrating.head()"
      ],
      "execution_count": 0,
      "outputs": []
    },
    {
      "cell_type": "code",
      "metadata": {
        "id": "Y3O7_s15ctUl",
        "colab_type": "code",
        "colab": {}
      },
      "source": [
        "from sklearn.metrics.pairwise import cosine_similarity\n",
        "cosine = pd.DataFrame(cosine_similarity(normrating.T.fillna(0)))\n",
        "cosine.index  = normrating.columns\n",
        "cosine.columns = normrating.columns"
      ],
      "execution_count": 0,
      "outputs": []
    },
    {
      "cell_type": "code",
      "metadata": {
        "id": "H9rxUy7Adap1",
        "colab_type": "code",
        "colab": {}
      },
      "source": [
        "cosine.head()"
      ],
      "execution_count": 0,
      "outputs": []
    },
    {
      "cell_type": "code",
      "metadata": {
        "id": "_MMJxXjedfoC",
        "colab_type": "code",
        "colab": {}
      },
      "source": [
        "user_rating = normrating.loc[357,:]"
      ],
      "execution_count": 0,
      "outputs": []
    },
    {
      "cell_type": "code",
      "metadata": {
        "id": "h0msgKBOdqqr",
        "colab_type": "code",
        "colab": {}
      },
      "source": [
        "pirates_sim = cosine.iloc[0]"
      ],
      "execution_count": 0,
      "outputs": []
    },
    {
      "cell_type": "code",
      "metadata": {
        "id": "QnaLA71bdx6j",
        "colab_type": "code",
        "colab": {}
      },
      "source": [
        "weighted_ratings = (user_rating*pirates_sim).sum()"
      ],
      "execution_count": 0,
      "outputs": []
    },
    {
      "cell_type": "code",
      "metadata": {
        "id": "0YZJ4cA6d6fT",
        "colab_type": "code",
        "colab": {}
      },
      "source": [
        "sumweight = (user_rating.notnull()*pirates_sim.abs()).sum()"
      ],
      "execution_count": 0,
      "outputs": []
    },
    {
      "cell_type": "code",
      "metadata": {
        "id": "O4nbyx2LeMUI",
        "colab_type": "code",
        "colab": {}
      },
      "source": [
        "itemmean[0]+weighted_ratings/sumweight"
      ],
      "execution_count": 0,
      "outputs": []
    },
    {
      "cell_type": "code",
      "metadata": {
        "id": "p0-EtfsueYyx",
        "colab_type": "code",
        "colab": {}
      },
      "source": [
        "weighted_ratings = (user_rating*cosine).sum(axis=1)\n",
        "sumweight = (user_rating.notnull()*cosine.abs()).sum(axis=1)"
      ],
      "execution_count": 0,
      "outputs": []
    },
    {
      "cell_type": "code",
      "metadata": {
        "id": "BcRLqkJbeq-f",
        "colab_type": "code",
        "colab": {}
      },
      "source": [
        "predict = itemmean + weighted_ratings/sumweight\n",
        "predict.head()"
      ],
      "execution_count": 0,
      "outputs": []
    },
    {
      "cell_type": "code",
      "metadata": {
        "id": "Jlw4zhXofIY-",
        "colab_type": "code",
        "colab": {}
      },
      "source": [
        "from sklearn.neighbors import NearestNeighbors"
      ],
      "execution_count": 0,
      "outputs": []
    },
    {
      "cell_type": "code",
      "metadata": {
        "id": "c2bdbqhCfRk2",
        "colab_type": "code",
        "colab": {}
      },
      "source": [
        "knn = NearestNeighbors(metric='cosine',n_neighbors=50)\n",
        "knn.fit(normrating.T.fillna(0))\n",
        "distance,indices = knn.kneighbors(normrating.T.fillna(0))"
      ],
      "execution_count": 0,
      "outputs": []
    },
    {
      "cell_type": "code",
      "metadata": {
        "id": "OGFxgnIsf7B-",
        "colab_type": "code",
        "colab": {}
      },
      "source": [
        "distance[0]"
      ],
      "execution_count": 0,
      "outputs": []
    },
    {
      "cell_type": "code",
      "metadata": {
        "id": "YCj4cjmegCz8",
        "colab_type": "code",
        "colab": {}
      },
      "source": [
        "indices[0]"
      ],
      "execution_count": 0,
      "outputs": []
    },
    {
      "cell_type": "code",
      "metadata": {
        "id": "BBC_d8LrgH8D",
        "colab_type": "code",
        "colab": {}
      },
      "source": [
        "distance_0 = pd.DataFrame(1-distance[0])\n",
        "distance_0.index = normrating.iloc[:,indices[0]].columns\n",
        "distance_0.head()"
      ],
      "execution_count": 0,
      "outputs": []
    },
    {
      "cell_type": "code",
      "metadata": {
        "id": "0qtUUrc1gtXM",
        "colab_type": "code",
        "colab": {}
      },
      "source": [
        "nume = (normrating.iloc[6, indices[0]]*(1-distance[0])).sum()"
      ],
      "execution_count": 0,
      "outputs": []
    },
    {
      "cell_type": "code",
      "metadata": {
        "id": "wHTt-81ahISH",
        "colab_type": "code",
        "colab": {}
      },
      "source": [
        "deno = ((normrating.iloc[6,indices[0]].notnull())*(np.abs(1-distance[0]))).sum()"
      ],
      "execution_count": 0,
      "outputs": []
    },
    {
      "cell_type": "code",
      "metadata": {
        "id": "W2ktUs58hd7h",
        "colab_type": "code",
        "colab": {}
      },
      "source": [
        "user357mean = toy.iloc[:,indices[0][0]].mean()"
      ],
      "execution_count": 0,
      "outputs": []
    },
    {
      "cell_type": "code",
      "metadata": {
        "id": "oNxUF0KvhqYY",
        "colab_type": "code",
        "colab": {}
      },
      "source": [
        "user357mean + nume /deno"
      ],
      "execution_count": 0,
      "outputs": []
    },
    {
      "cell_type": "code",
      "metadata": {
        "id": "w1xVGfkth2XD",
        "colab_type": "code",
        "colab": {}
      },
      "source": [
        "d = np.zeros(distance.shape[0])"
      ],
      "execution_count": 0,
      "outputs": []
    },
    {
      "cell_type": "code",
      "metadata": {
        "id": "kJzvKOAJh-Me",
        "colab_type": "code",
        "colab": {}
      },
      "source": [
        "for i in range(distance.shape[0]):\n",
        "  a = (normrating.iloc[6, indices[i]]*(1-distance[i])).sum()\n",
        "  b = ((normrating.iloc[6,indices[i]].notnull())*(np.abs(1-distance[i]))).sum()\n",
        "  c = toy.iloc[:,indices[i][0]].mean()\n",
        "  d[i] = c + a/b"
      ],
      "execution_count": 0,
      "outputs": []
    },
    {
      "cell_type": "code",
      "metadata": {
        "id": "bCGwYRt9ijzH",
        "colab_type": "code",
        "colab": {}
      },
      "source": [
        "d = pd.DataFrame(d)\n",
        "d.index = toy.columns\n",
        "d.head()"
      ],
      "execution_count": 0,
      "outputs": []
    }
  ]
}